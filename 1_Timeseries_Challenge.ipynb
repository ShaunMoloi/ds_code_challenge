{
 "cells": [
  {
   "cell_type": "markdown",
   "id": "quarterly-unemployment",
   "metadata": {},
   "source": [
    "## Importing Packages"
   ]
  },
  {
   "cell_type": "code",
   "execution_count": 4,
   "id": "sustainable-wiring",
   "metadata": {},
   "outputs": [],
   "source": [
    "import geopandas as gpd\n",
    "import pandas as pd\n",
    "import numpy as np\n",
    "import os, sys\n",
    "import requests\n",
    "import gzip\n",
    "from datetime import datetime"
   ]
  },
  {
   "cell_type": "markdown",
   "id": "lyric-physics",
   "metadata": {},
   "source": [
    "## Extracting Data"
   ]
  },
  {
   "cell_type": "code",
   "execution_count": 5,
   "id": "czech-patio",
   "metadata": {},
   "outputs": [
    {
     "name": "stderr",
     "output_type": "stream",
     "text": [
      "x sr.csv\n"
     ]
    }
   ],
   "source": [
    "url = \"https://cct-ds-code-challenge-input-data.s3.af-south-1.amazonaws.com/sr.csv.gz\"\n",
    "sr_zip = requests.get(url, allow_redirects=True)\n",
    "!tar -xvzf sr.csv.gz "
   ]
  },
  {
   "cell_type": "code",
   "execution_count": 6,
   "id": "black-egypt",
   "metadata": {},
   "outputs": [],
   "source": [
    "sr = pd.read_csv ('sr.csv')"
   ]
  },
  {
   "cell_type": "code",
   "execution_count": 7,
   "id": "alone-retro",
   "metadata": {},
   "outputs": [],
   "source": [
    "url2 = \"https://cct-ds-code-challenge-input-data.s3.af-south-1.amazonaws.com/city-hex-polygons-8.geojson\"\n",
    "hex_geo = gpd.read_file(url2)"
   ]
  },
  {
   "cell_type": "markdown",
   "id": "unlikely-carry",
   "metadata": {},
   "source": [
    "## Starting timer"
   ]
  },
  {
   "cell_type": "code",
   "execution_count": 8,
   "id": "desirable-asset",
   "metadata": {},
   "outputs": [],
   "source": [
    "startTime = datetime.now()"
   ]
  },
  {
   "cell_type": "markdown",
   "id": "golden-sister",
   "metadata": {},
   "source": [
    "## Data Transformation"
   ]
  },
  {
   "cell_type": "code",
   "execution_count": 9,
   "id": "legislative-values",
   "metadata": {},
   "outputs": [],
   "source": [
    "#Data Transformation for Hex\n",
    "hex = hex_geo[{'index', 'centroid_lat', 'centroid_lon'}]\n",
    "hex_df = pd.DataFrame(hex)\n",
    "hex_df['index'] = hex_df['index'].astype(str)\n",
    "hex_df['centroid_lat'] = hex_df['centroid_lat'].fillna(0).astype(str).str[0:6]\n",
    "hex_df['centroid_lon'] = hex_df['centroid_lon'].fillna(0).astype(str).str[0:5]\n",
    "hex_df['hex_point'] = hex_df['centroid_lat'] + hex_df['centroid_lon'].astype(str)\n",
    "\n",
    "#Data Transformation for Service Requests (SR)\n",
    "sr_df = pd.DataFrame(sr)\n",
    "sr_df['Latitude'] = sr_df['Latitude'].fillna(0).astype(str).str[0:6]\n",
    "sr_df['Longitude'] = sr_df['Longitude'].fillna(0).astype(str).str[0:5]\n",
    "sr_df['sr_point'] = sr_df['Latitude'] + sr_df['Longitude'].astype(str)\n",
    "\n",
    "#Merging SR to Hex\n",
    "new_merge = pd.merge(sr_df,hex_df, how='left', left_on = 'sr_point', right_on = 'hex_point', indicator= True)\n",
    "rslt_df = new_merge.loc[new_merge['_merge'] != 'both']\n",
    "\n",
    "#Saving Failed Merges\n",
    "rslt_df.to_csv('sr_hex_Failed_Merges.csv')\n",
    "\n",
    "#Dropping unnecessary columns and renaming\n",
    "sr_hex_drop = new_merge.drop(['centroid_lon', 'centroid_lat', 'hex_point', 'sr_point', '_merge', 'Unnamed: 0'], axis=1)\n",
    "sr_hex = sr_hex_drop.rename(columns = {'index': 'h3_level8_index'}).fillna(0)\n",
    "sr_hex.drop_duplicates(subset ='NotificationNumber',\n",
    "                     keep = 'first', inplace = True)\n",
    "\n",
    "#Saving Final Merge\n",
    "sr_hex.to_csv('sr_hex_Shaun_Moloi.csv')"
   ]
  },
  {
   "cell_type": "markdown",
   "id": "patient-journalism",
   "metadata": {},
   "source": [
    "## Preview of Data"
   ]
  },
  {
   "cell_type": "code",
   "execution_count": 10,
   "id": "middle-prompt",
   "metadata": {},
   "outputs": [
    {
     "data": {
      "text/html": [
       "<div>\n",
       "<style scoped>\n",
       "    .dataframe tbody tr th:only-of-type {\n",
       "        vertical-align: middle;\n",
       "    }\n",
       "\n",
       "    .dataframe tbody tr th {\n",
       "        vertical-align: top;\n",
       "    }\n",
       "\n",
       "    .dataframe thead th {\n",
       "        text-align: right;\n",
       "    }\n",
       "</style>\n",
       "<table border=\"1\" class=\"dataframe\">\n",
       "  <thead>\n",
       "    <tr style=\"text-align: right;\">\n",
       "      <th></th>\n",
       "      <th>NotificationNumber</th>\n",
       "      <th>NotificationType</th>\n",
       "      <th>CreationDate</th>\n",
       "      <th>CompletionDate</th>\n",
       "      <th>Duration</th>\n",
       "      <th>CodeGroup</th>\n",
       "      <th>Code</th>\n",
       "      <th>Open</th>\n",
       "      <th>Latitude</th>\n",
       "      <th>Longitude</th>\n",
       "      <th>SubCouncil2016</th>\n",
       "      <th>Wards2016</th>\n",
       "      <th>OfficialSuburbs</th>\n",
       "      <th>directorate</th>\n",
       "      <th>department</th>\n",
       "      <th>ModificationTimestamp</th>\n",
       "      <th>CompletionTimestamp</th>\n",
       "      <th>CreationTimestamp</th>\n",
       "      <th>h3_level8_index</th>\n",
       "    </tr>\n",
       "  </thead>\n",
       "  <tbody>\n",
       "    <tr>\n",
       "      <th>0</th>\n",
       "      <td>1011845437</td>\n",
       "      <td>C3</td>\n",
       "      <td>2017-01-01</td>\n",
       "      <td>2017-01-19</td>\n",
       "      <td>17.988889</td>\n",
       "      <td>WATER MANAGEMENT DEVICE</td>\n",
       "      <td>No Water WMD</td>\n",
       "      <td>False</td>\n",
       "      <td>-34.07</td>\n",
       "      <td>18.54</td>\n",
       "      <td>Subcouncil 23</td>\n",
       "      <td>43</td>\n",
       "      <td>STRANDFONTEIN</td>\n",
       "      <td>Water and Waste Services</td>\n",
       "      <td>Water and Sanitation</td>\n",
       "      <td>2017-01-19 18:41:27+02:00</td>\n",
       "      <td>2017-01-19 18:41:26+02:00</td>\n",
       "      <td>2017-01-01 18:57:26+02:00</td>\n",
       "      <td>88ad368893fffff</td>\n",
       "    </tr>\n",
       "    <tr>\n",
       "      <th>1</th>\n",
       "      <td>1011845442</td>\n",
       "      <td>C3</td>\n",
       "      <td>2017-01-01</td>\n",
       "      <td>2017-01-04</td>\n",
       "      <td>2.539896</td>\n",
       "      <td>WATER</td>\n",
       "      <td>Leak at Valve</td>\n",
       "      <td>False</td>\n",
       "      <td>-33.97</td>\n",
       "      <td>18.45</td>\n",
       "      <td>Subcouncil 20</td>\n",
       "      <td>59</td>\n",
       "      <td>NEWLANDS</td>\n",
       "      <td>Water and Waste Services</td>\n",
       "      <td>Water and Sanitation</td>\n",
       "      <td>2017-01-04 06:34:25+02:00</td>\n",
       "      <td>2017-01-04 06:34:24+02:00</td>\n",
       "      <td>2017-01-01 17:36:57+02:00</td>\n",
       "      <td>88ad361701fffff</td>\n",
       "    </tr>\n",
       "    <tr>\n",
       "      <th>4</th>\n",
       "      <td>1011844888</td>\n",
       "      <td>C3</td>\n",
       "      <td>2017-01-01</td>\n",
       "      <td>2017-01-23</td>\n",
       "      <td>22.490799</td>\n",
       "      <td>ELECTRICITY TECHNICAL COMPLAINTS</td>\n",
       "      <td>Street Lights - Single Light Out</td>\n",
       "      <td>False</td>\n",
       "      <td>0.0</td>\n",
       "      <td>0.0</td>\n",
       "      <td>None</td>\n",
       "      <td>None</td>\n",
       "      <td>None</td>\n",
       "      <td>Energy and Climate Change</td>\n",
       "      <td>Electricity</td>\n",
       "      <td>2017-01-23 13:07:01+02:00</td>\n",
       "      <td>2017-01-23 13:07:01+02:00</td>\n",
       "      <td>2017-01-01 01:20:16+02:00</td>\n",
       "      <td>0</td>\n",
       "    </tr>\n",
       "    <tr>\n",
       "      <th>5</th>\n",
       "      <td>1011845011</td>\n",
       "      <td>C3</td>\n",
       "      <td>2017-01-01</td>\n",
       "      <td>2017-01-25</td>\n",
       "      <td>23.931562</td>\n",
       "      <td>WATER</td>\n",
       "      <td>Broken Leading</td>\n",
       "      <td>False</td>\n",
       "      <td>-34.12</td>\n",
       "      <td>18.86</td>\n",
       "      <td>Subcouncil 8</td>\n",
       "      <td>86</td>\n",
       "      <td>LWANDLE</td>\n",
       "      <td>Water and Waste Services</td>\n",
       "      <td>Water and Sanitation</td>\n",
       "      <td>2017-01-25 07:43:37+02:00</td>\n",
       "      <td>2017-01-25 07:43:30+02:00</td>\n",
       "      <td>2017-01-01 09:22:03+02:00</td>\n",
       "      <td>88ad36d55bfffff</td>\n",
       "    </tr>\n",
       "    <tr>\n",
       "      <th>6</th>\n",
       "      <td>1011845299</td>\n",
       "      <td>C3</td>\n",
       "      <td>2017-01-01</td>\n",
       "      <td>2017-01-01</td>\n",
       "      <td>0.015567</td>\n",
       "      <td>SEWER</td>\n",
       "      <td>Sewer: Blocked/Overflow</td>\n",
       "      <td>False</td>\n",
       "      <td>0.0</td>\n",
       "      <td>0.0</td>\n",
       "      <td>None</td>\n",
       "      <td>None</td>\n",
       "      <td>None</td>\n",
       "      <td>Water and Waste Services</td>\n",
       "      <td>Water and Sanitation</td>\n",
       "      <td>2017-01-01 14:34:25+02:00</td>\n",
       "      <td>2017-01-01 14:34:20+02:00</td>\n",
       "      <td>2017-01-01 14:11:55+02:00</td>\n",
       "      <td>0</td>\n",
       "    </tr>\n",
       "  </tbody>\n",
       "</table>\n",
       "</div>"
      ],
      "text/plain": [
       "   NotificationNumber NotificationType CreationDate CompletionDate   Duration  \\\n",
       "0          1011845437               C3   2017-01-01     2017-01-19  17.988889   \n",
       "1          1011845442               C3   2017-01-01     2017-01-04   2.539896   \n",
       "4          1011844888               C3   2017-01-01     2017-01-23  22.490799   \n",
       "5          1011845011               C3   2017-01-01     2017-01-25  23.931562   \n",
       "6          1011845299               C3   2017-01-01     2017-01-01   0.015567   \n",
       "\n",
       "                          CodeGroup                              Code   Open  \\\n",
       "0           WATER MANAGEMENT DEVICE                      No Water WMD  False   \n",
       "1                             WATER                     Leak at Valve  False   \n",
       "4  ELECTRICITY TECHNICAL COMPLAINTS  Street Lights - Single Light Out  False   \n",
       "5                             WATER                    Broken Leading  False   \n",
       "6                             SEWER           Sewer: Blocked/Overflow  False   \n",
       "\n",
       "  Latitude Longitude SubCouncil2016 Wards2016 OfficialSuburbs  \\\n",
       "0   -34.07     18.54  Subcouncil 23        43   STRANDFONTEIN   \n",
       "1   -33.97     18.45  Subcouncil 20        59        NEWLANDS   \n",
       "4      0.0       0.0           None      None            None   \n",
       "5   -34.12     18.86   Subcouncil 8        86         LWANDLE   \n",
       "6      0.0       0.0           None      None            None   \n",
       "\n",
       "                 directorate            department      ModificationTimestamp  \\\n",
       "0   Water and Waste Services  Water and Sanitation  2017-01-19 18:41:27+02:00   \n",
       "1   Water and Waste Services  Water and Sanitation  2017-01-04 06:34:25+02:00   \n",
       "4  Energy and Climate Change           Electricity  2017-01-23 13:07:01+02:00   \n",
       "5   Water and Waste Services  Water and Sanitation  2017-01-25 07:43:37+02:00   \n",
       "6   Water and Waste Services  Water and Sanitation  2017-01-01 14:34:25+02:00   \n",
       "\n",
       "         CompletionTimestamp          CreationTimestamp  h3_level8_index  \n",
       "0  2017-01-19 18:41:26+02:00  2017-01-01 18:57:26+02:00  88ad368893fffff  \n",
       "1  2017-01-04 06:34:24+02:00  2017-01-01 17:36:57+02:00  88ad361701fffff  \n",
       "4  2017-01-23 13:07:01+02:00  2017-01-01 01:20:16+02:00                0  \n",
       "5  2017-01-25 07:43:30+02:00  2017-01-01 09:22:03+02:00  88ad36d55bfffff  \n",
       "6  2017-01-01 14:34:20+02:00  2017-01-01 14:11:55+02:00                0  "
      ]
     },
     "execution_count": 10,
     "metadata": {},
     "output_type": "execute_result"
    }
   ],
   "source": [
    "sr_hex.head()"
   ]
  },
  {
   "cell_type": "markdown",
   "id": "advanced-substance",
   "metadata": {},
   "source": [
    "## Ending Timer"
   ]
  },
  {
   "cell_type": "code",
   "execution_count": 12,
   "id": "useful-vatican",
   "metadata": {},
   "outputs": [
    {
     "name": "stdout",
     "output_type": "stream",
     "text": [
      "Script time\n",
      "0:01:36.384484\n"
     ]
    }
   ],
   "source": [
    "print(\"Script time\")\n",
    "print(datetime.now() - startTime)"
   ]
  }
 ],
 "metadata": {
  "kernelspec": {
   "display_name": "my_env",
   "language": "python",
   "name": "my_env"
  },
  "language_info": {
   "codemirror_mode": {
    "name": "ipython",
    "version": 3
   },
   "file_extension": ".py",
   "mimetype": "text/x-python",
   "name": "python",
   "nbconvert_exporter": "python",
   "pygments_lexer": "ipython3",
   "version": "3.9.7"
  }
 },
 "nbformat": 4,
 "nbformat_minor": 5
}
