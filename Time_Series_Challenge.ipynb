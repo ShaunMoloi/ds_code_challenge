{
 "cells": [
  {
   "cell_type": "code",
   "execution_count": 1,
   "id": "through-advantage",
   "metadata": {},
   "outputs": [
    {
     "name": "stderr",
     "output_type": "stream",
     "text": [
      "Importing plotly failed. Interactive plots will not work.\n"
     ]
    }
   ],
   "source": [
    "import pandas as pd\n",
    "import numpy as np\n",
    "from pandas import read_csv\n",
    "from pandas import to_datetime\n",
    "from pandas import DataFrame\n",
    "from fbprophet import Prophet\n",
    "from matplotlib import pyplot\n",
    "from pandas import read_csv\n",
    "from pandas import to_datetime\n",
    "from pandas import DataFrame\n",
    "from fbprophet import Prophet\n",
    "from matplotlib import pyplot\n",
    "from sklearn.model_selection import train_test_split\n",
    "from sklearn.metrics import mean_absolute_error"
   ]
  },
  {
   "cell_type": "code",
   "execution_count": null,
   "id": "variable-coordinate",
   "metadata": {},
   "outputs": [],
   "source": [
    "df = read_csv('Data/service_request_compare/sr_hex.csv')"
   ]
  },
  {
   "cell_type": "code",
   "execution_count": null,
   "id": "polyphonic-simon",
   "metadata": {},
   "outputs": [],
   "source": [
    "df2 = df.loc[((df['department'] == 'Water and Sanitation'))]"
   ]
  },
  {
   "cell_type": "code",
   "execution_count": null,
   "id": "acute-embassy",
   "metadata": {},
   "outputs": [],
   "source": [
    "df2 = df2[['CreationTimestamp','h3_level8_index']]"
   ]
  },
  {
   "cell_type": "code",
   "execution_count": null,
   "id": "initial-screening",
   "metadata": {},
   "outputs": [],
   "source": [
    "df2.head()"
   ]
  },
  {
   "cell_type": "code",
   "execution_count": null,
   "id": "abandoned-lewis",
   "metadata": {},
   "outputs": [],
   "source": [
    "df2['CreationTimestamp'] = df2.loc[:, ('CreationTimestamp')].astype(str).str[:10]"
   ]
  },
  {
   "cell_type": "code",
   "execution_count": null,
   "id": "noted-underground",
   "metadata": {},
   "outputs": [],
   "source": [
    "df2['h3_level8_index'] = df2['h3_level8_index'].astype(str)"
   ]
  },
  {
   "cell_type": "code",
   "execution_count": null,
   "id": "expressed-ranking",
   "metadata": {},
   "outputs": [],
   "source": [
    "df2.insert(loc=2, column='Total_Requests',value=1)"
   ]
  },
  {
   "cell_type": "code",
   "execution_count": null,
   "id": "medium-promise",
   "metadata": {},
   "outputs": [],
   "source": [
    "df2['CreationTimestamp'] = pd.to_datetime(df2['CreationTimestamp'])"
   ]
  },
  {
   "cell_type": "code",
   "execution_count": null,
   "id": "aggregate-entrepreneur",
   "metadata": {},
   "outputs": [],
   "source": [
    "df2 = df2.groupby(['h3_level8_index', pd.Grouper(key='CreationTimestamp', freq='W-WED')])['Total_Requests'].sum().reset_index().sort_values('CreationTimestamp')\n",
    "print (df2)"
   ]
  },
  {
   "cell_type": "code",
   "execution_count": null,
   "id": "welcome-teddy",
   "metadata": {},
   "outputs": [],
   "source": [
    "df3 = df2.loc[~((df2['h3_level8_index'] == '0'))]"
   ]
  },
  {
   "cell_type": "code",
   "execution_count": null,
   "id": "underlying-sampling",
   "metadata": {},
   "outputs": [],
   "source": [
    "df3 = df3.groupby(by=['CreationTimestamp']).sum('Total_Requests').reset_index()"
   ]
  },
  {
   "cell_type": "code",
   "execution_count": null,
   "id": "possible-blast",
   "metadata": {},
   "outputs": [],
   "source": [
    "df3.tail()"
   ]
  },
  {
   "cell_type": "code",
   "execution_count": null,
   "id": "parallel-czech",
   "metadata": {},
   "outputs": [],
   "source": [
    "# prepare expected column names\n",
    "df3.columns = ['ds', 'y']"
   ]
  },
  {
   "cell_type": "code",
   "execution_count": null,
   "id": "collected-horizontal",
   "metadata": {},
   "outputs": [],
   "source": [
    "#New Forecasts"
   ]
  },
  {
   "cell_type": "code",
   "execution_count": null,
   "id": "classified-letters",
   "metadata": {},
   "outputs": [],
   "source": [
    "#df4 = df3"
   ]
  },
  {
   "cell_type": "code",
   "execution_count": null,
   "id": "offensive-greece",
   "metadata": {},
   "outputs": [],
   "source": [
    "#model_2 = Prophet(interval_width = 0.95, weekly_seasonality=True)\n",
    "#model = model_2.fit(df4)"
   ]
  },
  {
   "cell_type": "code",
   "execution_count": null,
   "id": "signed-edmonton",
   "metadata": {},
   "outputs": [],
   "source": [
    "#future = model_2.make_future_dataframe(periods=4, freq='W')\n",
    "#forecast = model_2.predict(future)"
   ]
  },
  {
   "cell_type": "code",
   "execution_count": null,
   "id": "distributed-casting",
   "metadata": {},
   "outputs": [],
   "source": [
    "#forecast.tail(10)"
   ]
  },
  {
   "cell_type": "code",
   "execution_count": null,
   "id": "suspended-closure",
   "metadata": {},
   "outputs": [],
   "source": [
    "#df4.tail(10)"
   ]
  },
  {
   "cell_type": "code",
   "execution_count": null,
   "id": "corrected-bangladesh",
   "metadata": {},
   "outputs": [],
   "source": [
    "#model_2.plot(forecast)"
   ]
  },
  {
   "cell_type": "code",
   "execution_count": null,
   "id": "approximate-sociology",
   "metadata": {},
   "outputs": [],
   "source": [
    "#len(df4)"
   ]
  },
  {
   "cell_type": "code",
   "execution_count": null,
   "id": "hollywood-republican",
   "metadata": {},
   "outputs": [],
   "source": [
    "#New Forecasts"
   ]
  },
  {
   "cell_type": "code",
   "execution_count": null,
   "id": "economic-reason",
   "metadata": {},
   "outputs": [],
   "source": [
    "#train=df4[:138]\n",
    "#test=df4[138:]\n",
    "\n",
    "#m=Prophet(weekly_seasonality=True)\n",
    "#m.fit(train)\n",
    "#future=m.make_future_dataframe(periods=40,freq='W')\n",
    "#forecast=m.predict(future)\n"
   ]
  },
  {
   "cell_type": "code",
   "execution_count": null,
   "id": "sublime-spring",
   "metadata": {},
   "outputs": [],
   "source": [
    "#forecast.taill()"
   ]
  },
  {
   "cell_type": "code",
   "execution_count": null,
   "id": "urban-reconstruction",
   "metadata": {},
   "outputs": [],
   "source": [
    "#df4.tail()"
   ]
  },
  {
   "cell_type": "code",
   "execution_count": null,
   "id": "altered-cornell",
   "metadata": {},
   "outputs": [],
   "source": [
    "#m.plot(forecast, uncertainty=True)\n",
    "#plt.show()"
   ]
  },
  {
   "cell_type": "code",
   "execution_count": null,
   "id": "external-penguin",
   "metadata": {},
   "outputs": [],
   "source": [
    "#m.plot(forecast)\n",
    "#ax=forecast.plot(x='ds',y='yhat',legend=True,label='predictions',figsize=(12,8))\n",
    "#test.plot(x='ds',y='y',legend=True,label='True Test Data',ax=ax,xlim=('2017-01-02','2020-01-06'))"
   ]
  },
  {
   "cell_type": "code",
   "execution_count": null,
   "id": "internal-object",
   "metadata": {},
   "outputs": [],
   "source": []
  },
  {
   "cell_type": "code",
   "execution_count": null,
   "id": "finnish-gallery",
   "metadata": {},
   "outputs": [],
   "source": []
  },
  {
   "cell_type": "code",
   "execution_count": null,
   "id": "meaningful-perfume",
   "metadata": {},
   "outputs": [],
   "source": []
  },
  {
   "cell_type": "code",
   "execution_count": null,
   "id": "checked-invitation",
   "metadata": {},
   "outputs": [],
   "source": []
  },
  {
   "cell_type": "code",
   "execution_count": null,
   "id": "corresponding-holder",
   "metadata": {},
   "outputs": [],
   "source": []
  },
  {
   "cell_type": "code",
   "execution_count": null,
   "id": "confidential-ladder",
   "metadata": {},
   "outputs": [],
   "source": []
  },
  {
   "cell_type": "code",
   "execution_count": null,
   "id": "generic-pastor",
   "metadata": {},
   "outputs": [],
   "source": []
  },
  {
   "cell_type": "code",
   "execution_count": null,
   "id": "included-jaguar",
   "metadata": {},
   "outputs": [],
   "source": [
    "#train, test = train_test_split(df4, test_size = 0.10, shuffle=False)\n",
    "#model_fit = model_2.fit (train)\n",
    "#future = model_.make_future_dataframe(periods=20, freq='W')\n",
    "#predictions = model_fit.predict(future)\n",
    "#model_fit.plot(predictions)"
   ]
  },
  {
   "cell_type": "code",
   "execution_count": null,
   "id": "interesting-porcelain",
   "metadata": {},
   "outputs": [],
   "source": [
    "#predictions.tail()"
   ]
  },
  {
   "cell_type": "code",
   "execution_count": null,
   "id": "flush-austria",
   "metadata": {},
   "outputs": [],
   "source": [
    "#df3.tail()"
   ]
  },
  {
   "cell_type": "code",
   "execution_count": null,
   "id": "prescription-bikini",
   "metadata": {},
   "outputs": [],
   "source": [
    "model = Prophet(weekly_seasonality=True)\n",
    "\n",
    "train, test = train_test_split(df3, test_size = 0.10, shuffle=False)\n",
    "model_fit = model.fit (train)\n"
   ]
  },
  {
   "cell_type": "code",
   "execution_count": null,
   "id": "brilliant-firmware",
   "metadata": {},
   "outputs": [],
   "source": [
    "future = model_fit.make_future_dataframe(periods=20, freq='W')\n",
    "predictions = model_fit.predict(future)"
   ]
  },
  {
   "cell_type": "code",
   "execution_count": null,
   "id": "superb-employer",
   "metadata": {},
   "outputs": [],
   "source": [
    "model_fit.plot(predictions)"
   ]
  },
  {
   "cell_type": "code",
   "execution_count": null,
   "id": "subsequent-surge",
   "metadata": {},
   "outputs": [],
   "source": [
    "model_fit.plot_components(predictions)"
   ]
  },
  {
   "cell_type": "code",
   "execution_count": null,
   "id": "alternate-modern",
   "metadata": {},
   "outputs": [],
   "source": [
    "predictions['yhat'] = np.round(predictions['yhat'])\n",
    "final = predictions.rename({'ds': 'date','yhat' : 'Service Requests Expected'}, axis=1)"
   ]
  },
  {
   "cell_type": "code",
   "execution_count": null,
   "id": "negative-alliance",
   "metadata": {},
   "outputs": [],
   "source": [
    "print(\"Final Answer:\" )\n",
    "final[['date','Service Requests Expected']].tail()\n"
   ]
  },
  {
   "cell_type": "code",
   "execution_count": null,
   "id": "finite-landscape",
   "metadata": {},
   "outputs": [],
   "source": [
    "df3.tail()"
   ]
  },
  {
   "cell_type": "code",
   "execution_count": null,
   "id": "reserved-military",
   "metadata": {},
   "outputs": [],
   "source": []
  }
 ],
 "metadata": {
  "kernelspec": {
   "display_name": "my_env",
   "language": "python",
   "name": "my_env"
  },
  "language_info": {
   "codemirror_mode": {
    "name": "ipython",
    "version": 3
   },
   "file_extension": ".py",
   "mimetype": "text/x-python",
   "name": "python",
   "nbconvert_exporter": "python",
   "pygments_lexer": "ipython3",
   "version": "3.9.7"
  }
 },
 "nbformat": 4,
 "nbformat_minor": 5
}
